{
 "cells": [
  {
   "cell_type": "code",
   "execution_count": 9,
   "id": "a749d865-d65f-411e-a29a-dc309f4855c6",
   "metadata": {},
   "outputs": [
    {
     "name": "stdin",
     "output_type": "stream",
     "text": [
      "Enter a whole number 1-10 to guess my secret number:  9\n"
     ]
    },
    {
     "name": "stdout",
     "output_type": "stream",
     "text": [
      "Too high!\n"
     ]
    }
   ],
   "source": [
    "#4.1\n",
    "#Initialize variable secret to a number 1-10 of my choosing\n",
    "#Initialize variable guess and assign a number 1-10 to the variable\n",
    "secret = 8\n",
    "guess = 2\n",
    "\n",
    "#Prompt user for input and use int to convert string to integer value:\n",
    "guess = int(input(\"Enter a whole number 1-10 to guess my secret number: \"))\n",
    "\n",
    "if guess < secret:          #if users guess is less than the variable secret\n",
    "    print(\"Too low!\")       #'Too low' message is output to the user\n",
    "    \n",
    "elif guess > secret:        #else if the guess is greater than the variable secret\n",
    "    print(\"Too high!\")      #'Too high' message is output to the user\n",
    "    \n",
    "else: \n",
    "    guess == secret         #else if the guess is equal to the variable secret\n",
    "    print(\"Just right!\")    #'Just right' message is output to the user "
   ]
  },
  {
   "cell_type": "code",
   "execution_count": 14,
   "id": "049be66b-ddaf-4b20-9fe9-7145340d0f7d",
   "metadata": {},
   "outputs": [
    {
     "name": "stdout",
     "output_type": "stream",
     "text": [
      "Watermelon\n"
     ]
    }
   ],
   "source": [
    "#4.2\n",
    "#Initialize small and green variables and set to a boolean value:\n",
    "small = False\n",
    "green = True\n",
    "\n",
    "#test conditions using if/else statements against various conditions:\n",
    "\n",
    "if small and green:              #if small and green both are True\n",
    "    print(\"Pea\")                 #Output is 'Pea'\n",
    "elif small and not green:        #else if small is True and green is False   \n",
    "        print(\"Cherry\")          #Output is 'Cherry'\n",
    "elif not small and green:        #else if small is False and green is True\n",
    "        print(\"Watermelon\")      #Output is 'Watermelon\n",
    "else:                               \n",
    "    not small and not green      #Else if small is False and green is False\n",
    "    print(\"Pumpkin\")             #Output is 'Pumpkin'"
   ]
  },
  {
   "cell_type": "code",
   "execution_count": 4,
   "id": "a4968efb-6249-464e-b2ba-49da5415031a",
   "metadata": {},
   "outputs": [
    {
     "name": "stdout",
     "output_type": "stream",
     "text": [
      "3\n",
      "2\n",
      "1\n",
      "0\n"
     ]
    }
   ],
   "source": [
    "#6.1\n",
    "#Initialize a list with the given values:\n",
    "values = [3, 2, 1, 0]\n",
    "\n",
    "#Begin a for loop to display each value within that list of values:\n",
    "for value in values:\n",
    "    print (value)\n",
    "        "
   ]
  },
  {
   "cell_type": "code",
   "execution_count": 31,
   "id": "628493d1-7367-47df-8db9-b1ab68468693",
   "metadata": {},
   "outputs": [
    {
     "name": "stdout",
     "output_type": "stream",
     "text": [
      "Too Low.\n",
      "Too Low.\n",
      "Too Low.\n",
      "Too Low.\n",
      "Too Low.\n",
      "Too Low.\n",
      "Found it!\n"
     ]
    }
   ],
   "source": [
    "#6.2\n",
    "#Initialize variables with given values:\n",
    "guess_me = 7\n",
    "number = 1\n",
    "\n",
    "#Begin a while loop comparing the two variables:\n",
    "while True:\n",
    "    if number < guess_me:        #If number is less than guess_me\n",
    "        print (\"Too Low.\")       #This output is displayed\n",
    "    elif number == guess_me:     #else if the number is equal to guess_me\n",
    "        print (\"Found it!\")      #This output is displayed\n",
    "        break                    #Break from the loop is number is found\n",
    "    else:\n",
    "        if number > guess_me:     #else number must be greater than guess_me variable\n",
    "            print (\"Oops\")           #This output is then displayed\n",
    "\n",
    "    number += 1    #Increment the value of the variable number by 1 with each execution of the loop:\n"
   ]
  },
  {
   "cell_type": "code",
   "execution_count": 23,
   "id": "e33072d7-9a89-4b09-b289-0d30aef54cdd",
   "metadata": {},
   "outputs": [
    {
     "name": "stdout",
     "output_type": "stream",
     "text": [
      "Too low.\n",
      "Too low.\n",
      "Too low.\n",
      "Too low.\n",
      "Too low.\n",
      "Found it!\n"
     ]
    }
   ],
   "source": [
    "#6.3\n",
    "#Initialize the variable guess_me with the given value of 5\n",
    "guess_me = 5\n",
    "\n",
    "#Begin a for loop that iterates through number within the range of 10\n",
    "for number in range(10):\n",
    "    if number < guess_me:\n",
    "        print (\"Too low.\")\n",
    "    elif number == guess_me:\n",
    "        print (\"Found it!\")\n",
    "        break\n",
    "    else:\n",
    "        if number > guess_me:\n",
    "            print (\"Oops!\")\n",
    "            break\n",
    "        \n",
    "        \n",
    "    \n",
    "    \n"
   ]
  }
 ],
 "metadata": {
  "kernelspec": {
   "display_name": "anaconda-2024.02-py310",
   "language": "python",
   "name": "conda-env-anaconda-2024.02-py310-py"
  },
  "language_info": {
   "codemirror_mode": {
    "name": "ipython",
    "version": 3
   },
   "file_extension": ".py",
   "mimetype": "text/x-python",
   "name": "python",
   "nbconvert_exporter": "python",
   "pygments_lexer": "ipython3",
   "version": "3.10.14"
  }
 },
 "nbformat": 4,
 "nbformat_minor": 5
}
